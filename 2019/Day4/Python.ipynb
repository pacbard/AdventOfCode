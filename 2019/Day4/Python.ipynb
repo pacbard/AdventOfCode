{
  "cells": [
    {
      "cell_type": "markdown",
      "source": [
        "# Day 4: Secure Container"
      ],
      "metadata": {}
    },
    {
      "cell_type": "markdown",
      "source": [
        "## Part 1\n",
        "\n",
        "You arrive at the Venus fuel depot only to discover it's protected by a password. The Elves had written the password on a sticky note, but someone threw it out.\n",
        "\n",
        "However, they do remember a few key facts about the password:\n",
        "\n",
        "It is a six-digit number.\n",
        "The value is within the range given in your puzzle input.\n",
        "Two adjacent digits are the same (like 22 in 122345).\n",
        "Going from left to right, the digits never decrease; they only ever increase or stay the same (like 111123 or 135679).\n",
        "Other than the range rule, the following are true:\n",
        "\n",
        "- 111111 meets these criteria (double 11, never decreases).\n",
        "- 223450 does not meet these criteria (decreasing pair of digits 50).\n",
        "- 123789 does not meet these criteria (no double).\n",
        "\n",
        "How many different passwords within the range given in your puzzle input meet these criteria?\n",
        "\n",
        "Your puzzle input is ```156218-652527```."
      ],
      "metadata": {}
    },
    {
      "cell_type": "code",
      "source": [
        "def countPasswords(start, end):\n",
        "    \n",
        "    def hasDoubleDigit(password):\n",
        "        for i in range(0, len(str(password))-1):\n",
        "            if str(password)[i] == str(password)[i+1]:\n",
        "                return True\n",
        "        return False\n",
        "    \n",
        "    passwords = 0\n",
        "    for i in range(int(str(start)[0]), int(str(end)[0])+1):\n",
        "        for j in range(i, 10):\n",
        "            for k in range(j, 10):\n",
        "                for l in range(k, 10):\n",
        "                    for m in range(l, 10):\n",
        "                        for n in range(m, 10):\n",
        "                            password = int(\"\".join([str(s) for s in [i, j, k, l, m, n]]))\n",
        "                            if password < start:\n",
        "                                None\n",
        "                            elif password <= end and hasDoubleDigit(password):\n",
        "                                passwords += 1\n",
        "    return(passwords)\n",
        "\n",
        "print(f\"Number of passwords: {countPasswords(156218, 652527)}\")"
      ],
      "outputs": [
        {
          "output_type": "stream",
          "name": "stdout",
          "text": [
            "Number of passwords: 1694\n"
          ]
        }
      ],
      "execution_count": 61,
      "metadata": {
        "collapsed": false,
        "outputHidden": false,
        "inputHidden": false
      }
    },
    {
      "cell_type": "markdown",
      "source": [
        "## Part 2\n",
        "\n",
        "An Elf just remembered one more important detail: the two adjacent matching digits are not part of a larger group of matching digits.\n",
        "\n",
        "Given this additional criterion, but still ignoring the range rule, the following are now true:\n",
        "\n",
        "- 112233 meets these criteria because the digits never decrease and all repeated digits are exactly two digits long.\n",
        "- 123444 no longer meets the criteria (the repeated 44 is part of a larger group of 444).\n",
        "- 111122 meets the criteria (even though 1 is repeated more than twice, it still contains a double 22).\n",
        "\n",
        "How many different passwords within the range given in your puzzle input meet all of the criteria?\n",
        "\n",
        "Your puzzle input is still ```156218-652527```."
      ],
      "metadata": {}
    },
    {
      "cell_type": "code",
      "source": [
        "def countPasswords2(start, end):\n",
        "\n",
        "    def hasDoubleDigit(password):\n",
        "        password = [int(d) for d in str(password)]\n",
        "                \n",
        "        l = password.pop(0)\n",
        "        n = 1\n",
        "\n",
        "        # Get all digits that are the same\n",
        "        while len(password) > 0 and l == password[0]:\n",
        "            password.pop(0)\n",
        "            n += 1\n",
        "\n",
        "        # Check if you got exactly 2\n",
        "        if n == 2:\n",
        "            return True\n",
        "        elif len(password) == 0:\n",
        "            return False\n",
        "        else:\n",
        "            return(hasDoubleDigit(int(\"\".join([str(s) for s in password]))))\n",
        "                                          \n",
        "    passwords = 0\n",
        "    for i in range(int(str(start)[0]), int(str(end)[0])+1):\n",
        "        for j in range(i, 10):\n",
        "            for k in range(j, 10):\n",
        "                for l in range(k, 10):\n",
        "                    for m in range(l, 10):\n",
        "                        for n in range(m, 10):\n",
        "                            password = int(\"\".join([str(s) for s in [i, j, k, l, m, n]]))\n",
        "                            if password < start:\n",
        "                                None\n",
        "                            elif password <= end and hasDoubleDigit(password):\n",
        "                                passwords += 1\n",
        "    return(passwords)\n",
        "\n",
        "print(f\"Number of passwords: {countPasswords2(156218, 652527)}\")"
      ],
      "outputs": [
        {
          "output_type": "stream",
          "name": "stdout",
          "text": [
            "Number of passwords: 1148\n"
          ]
        }
      ],
      "execution_count": 142,
      "metadata": {
        "collapsed": false,
        "outputHidden": false,
        "inputHidden": false
      }
    }
  ],
  "metadata": {
    "kernel_info": {
      "name": "python3"
    },
    "language_info": {
      "name": "python",
      "version": "3.7.5",
      "mimetype": "text/x-python",
      "codemirror_mode": {
        "name": "ipython",
        "version": 3
      },
      "pygments_lexer": "ipython3",
      "nbconvert_exporter": "python",
      "file_extension": ".py"
    },
    "kernelspec": {
      "name": "python3",
      "language": "python",
      "display_name": "Python 3"
    },
    "nteract": {
      "version": "0.15.0"
    }
  },
  "nbformat": 4,
  "nbformat_minor": 0
}