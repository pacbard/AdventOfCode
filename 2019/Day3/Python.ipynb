{
  "cells": [
    {
      "cell_type": "markdown",
      "source": [
        "# Day 3: Crossed Wires"
      ],
      "metadata": {}
    },
    {
      "cell_type": "code",
      "source": [
        "import numpy\n",
        "\n",
        "f = open('input.txt', 'r')\n",
        "wires = [line.split(',') for line in f.readlines()]"
      ],
      "outputs": [],
      "execution_count": 1,
      "metadata": {
        "collapsed": false,
        "outputHidden": false,
        "inputHidden": false
      }
    },
    {
      "cell_type": "markdown",
      "source": [
        "## Part 1\n",
        "\n",
        "The gravity assist was successful, and you're well on your way to the Venus refuelling station. During the rush back on Earth, the fuel management system wasn't completely installed, so that's next on the priority list.\n",
        "\n",
        "Opening the front panel reveals a jumble of wires. Specifically, two wires are connected to a central port and extend outward on a grid. You trace the path each wire takes as it leaves the central port, one wire per line of text (your puzzle input).\n",
        "\n",
        "The wires twist and turn, but the two wires occasionally cross paths. To fix the circuit, you need to find the intersection point closest to the central port. Because the wires are on a grid, use the Manhattan distance for this measurement. While the wires do technically cross right at the central port where they both start, this point does not count, nor does a wire count as crossing with itself.\n",
        "\n",
        "For example, if the first wire's path is R8,U5,L5,D3, then starting from the central port (o), it goes right 8, up 5, left 5, and finally down 3:\n",
        "\n",
        "```\n",
        "...........\n",
        "...........\n",
        "...........\n",
        "....+----+.\n",
        "....|....|.\n",
        "....|....|.\n",
        "....|....|.\n",
        ".........|.\n",
        ".o-------+.\n",
        "...........\n",
        "```\n",
        "\n",
        "Then, if the second wire's path is U7,R6,D4,L4, it goes up 7, right 6, down 4, and left 4:\n",
        "\n",
        "```\n",
        "...........\n",
        ".+-----+...\n",
        ".|.....|...\n",
        ".|..+--X-+.\n",
        ".|..|..|.|.\n",
        ".|.-X--+.|.\n",
        ".|..|....|.\n",
        ".|.......|.\n",
        ".o-------+.\n",
        "...........\n",
        "```\n",
        "\n",
        "These wires cross at two locations (marked X), but the lower-left one is closer to the central port: its distance is 3 + 3 = 6.\n",
        "\n",
        "Here are a few more examples:\n",
        "\n",
        "- R75,D30,R83,U83,L12,D49,R71,U7,L72\n",
        "- U62,R66,U55,R34,D71,R55,D58,R83 = distance 159\n",
        "- R98,U47,R26,D63,R33,U87,L62,D20,R33,U53,R51\n",
        "- U98,R91,D20,R16,D67,R40,U7,R15,U6,R7 = distance 135\n",
        "\n",
        "What is the Manhattan distance from the central port to the closest intersection?"
      ],
      "metadata": {}
    },
    {
      "cell_type": "code",
      "source": [
        "# From: https://algorithmtutor.com/Computational-Geometry/Check-if-two-line-segment-intersect/\n",
        "# checks if line segment p1p2 and p3p4 intersect\n",
        "def intersect(p1, p2, p3, p4):\n",
        "    def cross_product(p1, p2):\n",
        "\t    return p1[0] * p2[1] - p2[0] * p1[1]\n",
        "    # returns the cross product of vector p1p3 and p1p2\n",
        "    # if p1p3 is clockwise from p1p2 it returns +ve value\n",
        "    # if p1p3 is anti-clockwise from p1p2 it returns -ve value\n",
        "    # if p1 p2 and p3 are collinear it returns 0\n",
        "    def direction(p1, p2, p3):\n",
        "\t    return  cross_product(numpy.subtract(p3, p1), numpy.subtract(p2, p1))\n",
        "    \n",
        "    # checks if p lies on the segment p1p2\n",
        "    def on_segment(p1, p2, p):\n",
        "        return min(p1[0], p2[0]) <= p[0] <= max(p1[0], p2[0]) and min(p1[1], p2[1]) <= p[1] <= max(p1[1], p2[1])\n",
        "\n",
        "    d1 = direction(p3, p4, p1)\n",
        "    d2 = direction(p3, p4, p2)\n",
        "    d3 = direction(p1, p2, p3)\n",
        "    d4 = direction(p1, p2, p4)\n",
        "\n",
        "    if ((d1 > 0 and d2 < 0) or (d1 < 0 and d2 > 0)) and ((d3 > 0 and d4 < 0) or (d3 < 0 and d4 > 0)):\n",
        "        return True\n",
        "    elif d1 == 0 and on_segment(p3, p4, p1):\n",
        "        return True\n",
        "    elif d2 == 0 and on_segment(p3, p4, p2):\n",
        "        return True\n",
        "    elif d3 == 0 and on_segment(p1, p2, p3):\n",
        "        return True\n",
        "    elif d4 == 0 and on_segment(p1, p2, p4):\n",
        "        return True\n",
        "    else:\n",
        "        return False\n",
        "\n",
        "def wireIntersections(p1, p2, p3, p4):\n",
        "    def line_intersection(line1, line2):\n",
        "        xdiff = (line1[0][0] - line1[1][0], line2[0][0] - line2[1][0])\n",
        "        ydiff = (line1[0][1] - line1[1][1], line2[0][1] - line2[1][1])\n",
        "\n",
        "        def det(a, b):\n",
        "            return a[0] * b[1] - a[1] * b[0]\n",
        "\n",
        "        div = det(xdiff, ydiff)\n",
        "        if div == 0:\n",
        "           return\n",
        "\n",
        "        d = (det(*line1), det(*line2))\n",
        "        x = det(d, xdiff) / div\n",
        "        y = det(d, ydiff) / div\n",
        "        return x, y\n",
        "    \n",
        "    if intersect(p1, p2, p3, p4):\n",
        "        return line_intersection((p1, p2), (p3, p4))\n",
        "    \n",
        "def followWire(start, directions):\n",
        "    wire = list()\n",
        "    wire.append(start)\n",
        "    \n",
        "    for jump in directions:\n",
        "        direction = jump[0]\n",
        "        distance = int(jump[1:])\n",
        "        \n",
        "        if direction == \"R\":\n",
        "                wire.append(tuple(map(sum, zip(wire[-1], (distance, 0)))))\n",
        "        elif direction == \"L\":\n",
        "                wire.append(tuple(map(sum, zip(wire[-1], (-1*distance, 0)))))       \n",
        "        elif direction == \"U\":\n",
        "                wire.append(tuple(map(sum, zip(wire[-1], (0, distance)))))\n",
        "        elif direction == \"D\":\n",
        "                wire.append(tuple(map(sum, zip(wire[-1], (0, -1*distance)))))      \n",
        "        else:\n",
        "            print(\"Direction not supported\")\n",
        "            break\n",
        "        \n",
        "    return(wire)\n",
        "\n",
        "wireLocations = list()\n",
        "for wire in wires:\n",
        "    wireLocations.append(followWire((0,0), wire))\n",
        "\n",
        "intersections = list()\n",
        "for i in range(1, len(wireLocations[0])-1):\n",
        "    for j in range(1, len(wireLocations[1])-1):\n",
        "        intersection = wireIntersections(wireLocations[0][i], wireLocations[0][i+1], wireLocations[1][j], wireLocations[1][j+1])\n",
        "        (intersections.append(intersection) if intersection is not None else None)\n",
        "\n",
        "distances = list()\n",
        "for point in intersections:\n",
        "    distances.append(abs(point[0])+abs(point[1]))\n",
        "    \n",
        "print(\"Solution: \", str(int(min(distances))))"
      ],
      "outputs": [
        {
          "output_type": "stream",
          "name": "stdout",
          "text": [
            "Solution:  1195\n"
          ]
        }
      ],
      "execution_count": 2,
      "metadata": {
        "collapsed": false,
        "outputHidden": false,
        "inputHidden": false
      }
    },
    {
      "cell_type": "markdown",
      "source": [
        "## Part 2\n",
        "\n",
        "It turns out that this circuit is very timing-sensitive; you actually need to minimize the signal delay.\n",
        "\n",
        "To do this, calculate the number of steps each wire takes to reach each intersection; choose the intersection where the sum of both wires' steps is lowest. If a wire visits a position on the grid multiple times, use the steps value from the first time it visits that position when calculating the total value of a specific intersection.\n",
        "\n",
        "The number of steps a wire takes is the total number of grid squares the wire has entered to get to that location, including the intersection being considered. Again consider the example from above:\n",
        "\n",
        "```\n",
        "...........\n",
        ".+-----+...\n",
        ".|.....|...\n",
        ".|..+--X-+.\n",
        ".|..|..|.|.\n",
        ".|.-X--+.|.\n",
        ".|..|....|.\n",
        ".|.......|.\n",
        ".o-------+.\n",
        "...........\n",
        "```\n",
        "\n",
        "In the above example, the intersection closest to the central port is reached after 8+5+5+2 = 20 steps by the first wire and 7+6+4+3 = 20 steps by the second wire for a total of 20+20 = 40 steps.\n",
        "\n",
        "However, the top-right intersection is better: the first wire takes only 8+5+2 = 15 and the second wire takes only 7+6+2 = 15, a total of 15+15 = 30 steps.\n",
        "\n",
        "Here are the best steps for the extra examples from above:\n",
        "\n",
        "- R75,D30,R83,U83,L12,D49,R71,U7,L72\n",
        "- U62,R66,U55,R34,D71,R55,D58,R83 = 610 steps\n",
        "- R98,U47,R26,D63,R33,U87,L62,D20,R33,U53,R51\n",
        "- U98,R91,D20,R16,D67,R40,U7,R15,U6,R7 = 410 steps\n",
        "\n",
        "What is the fewest combined steps the wires must take to reach an intersection?"
      ],
      "metadata": {}
    },
    {
      "cell_type": "code",
      "source": [
        "def measureDistanceToIntersection(wireLocations):\n",
        "    distances = list()\n",
        "    for i in range(1, len(wireLocations[0])-1):\n",
        "        for j in range(1, len(wireLocations[1])-1):\n",
        "            intersection = wireIntersections(wireLocations[0][i], wireLocations[0][i+1], wireLocations[1][j], wireLocations[1][j+1])\n",
        "            if intersection is not None:\n",
        "                steps = 0\n",
        "                for l in range(0, i):\n",
        "                    if i-1 == 0:\n",
        "                        continue\n",
        "                    d = numpy.subtract(wireLocations[0][l], wireLocations[0][l+1])\n",
        "                    steps += abs(d[0]) + abs(d[1])\n",
        "                d = numpy.subtract(intersection, wireLocations[0][i])\n",
        "                steps += abs(d[0]) + abs(d[1])\n",
        "                for m in range(0, j):\n",
        "                    if j-1 == 0:\n",
        "                        continue\n",
        "                    d = numpy.subtract(wireLocations[1][m], wireLocations[1][m+1])\n",
        "                    steps += abs(d[0]) + abs(d[1])\n",
        "                d = numpy.subtract(intersection, wireLocations[1][j])\n",
        "                steps += abs(d[0]) + abs(d[1])\n",
        "                distances.append(steps)\n",
        "    return(distances)\n",
        "\n",
        "print(\"Solution: \" + str(int(min(measureDistanceToIntersection(wireLocations)))))"
      ],
      "outputs": [
        {
          "output_type": "stream",
          "name": "stdout",
          "text": [
            "Solution: 91518\n"
          ]
        }
      ],
      "execution_count": 3,
      "metadata": {
        "collapsed": false,
        "outputHidden": false,
        "inputHidden": false
      }
    },
    {
      "cell_type": "markdown",
      "source": [
        "# Test"
      ],
      "metadata": {}
    },
    {
      "cell_type": "code",
      "source": [
        "testWire1 = [line.split(',') for line in [\"R8,U5,L5,D3\", \"U7,R6,D4,L4\"]]\n",
        "\n",
        "wireLocations = list()\n",
        "for wire in testWire1:\n",
        "    wireLocations.append(followWire((0,0), wire))\n",
        "    \n",
        "intersections = list()\n",
        "for i in range(len(wireLocations[0])-1):\n",
        "    for j in range(len(wireLocations[1])-1):\n",
        "        intersection = wireIntersections(wireLocations[0][i], wireLocations[0][i+1], wireLocations[1][j], wireLocations[1][j+1])\n",
        "        (intersections.append(intersection) if intersection is not None else None)\n",
        "\n",
        "distances = list()\n",
        "for point in intersections:\n",
        "    distances.append(abs(point[0])+abs(point[1]))\n",
        "\n",
        "print(testWire1)\n",
        "print(wireLocations)\n",
        "print(intersections)\n",
        "print(distances)"
      ],
      "outputs": [
        {
          "output_type": "stream",
          "name": "stdout",
          "text": [
            "[['R8', 'U5', 'L5', 'D3'], ['U7', 'R6', 'D4', 'L4']]\n",
            "[[(0, 0), (8, 0), (8, 5), (3, 5), (3, 2)], [(0, 0), (0, 7), (6, 7), (6, 3), (2, 3)]]\n",
            "[(0.0, 0.0), (6.0, 5.0), (3.0, 3.0)]\n",
            "[0.0, 11.0, 6.0]\n"
          ]
        }
      ],
      "execution_count": 4,
      "metadata": {
        "collapsed": false,
        "outputHidden": false,
        "inputHidden": false
      }
    },
    {
      "cell_type": "code",
      "source": [
        "print(measureDistanceToIntersection(wireLocations))"
      ],
      "outputs": [
        {
          "output_type": "stream",
          "name": "stdout",
          "text": [
            "[30.0, 40.0]\n"
          ]
        }
      ],
      "execution_count": 5,
      "metadata": {
        "collapsed": false,
        "outputHidden": false,
        "inputHidden": false
      }
    }
  ],
  "metadata": {
    "kernel_info": {
      "name": "python3"
    },
    "language_info": {
      "name": "python",
      "version": "3.7.5",
      "mimetype": "text/x-python",
      "codemirror_mode": {
        "name": "ipython",
        "version": 3
      },
      "pygments_lexer": "ipython3",
      "nbconvert_exporter": "python",
      "file_extension": ".py"
    },
    "kernelspec": {
      "name": "python3",
      "language": "python",
      "display_name": "Python 3"
    },
    "nteract": {
      "version": "0.15.0"
    }
  },
  "nbformat": 4,
  "nbformat_minor": 0
}