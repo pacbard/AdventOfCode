{
  "cells": [
    {
      "cell_type": "markdown",
      "source": [
        "# Day 1: The Tyranny of the Rocket Equation"
      ],
      "metadata": {}
    },
    {
      "cell_type": "code",
      "source": [
        "library(testthat)\n",
        "\n",
        "modulesMass <- scan(\"input.txt\")"
      ],
      "outputs": [],
      "execution_count": 3,
      "metadata": {
        "collapsed": false,
        "outputHidden": false,
        "inputHidden": false
      }
    },
    {
      "cell_type": "markdown",
      "source": [
        "## Part 1\n",
        "\n",
        "Santa has become stranded at the edge of the Solar System while delivering presents to other planets! To accurately calculate his position in space, safely align his warp drive, and return to Earth in time to save Christmas, he needs you to bring him measurements from fifty stars.\n",
        "\n",
        "Collect stars by solving puzzles. Two puzzles will be made available on each day in the Advent calendar; the second puzzle is unlocked when you complete the first. Each puzzle grants one star. Good luck!\n",
        "\n",
        "The Elves quickly load you into a spacecraft and prepare to launch.\n",
        "\n",
        "At the first Go / No Go poll, every Elf is Go until the Fuel Counter-Upper. They haven't determined the amount of fuel required yet.\n",
        "\n",
        "Fuel required to launch a given module is based on its mass. Specifically, to find the fuel required for a module, take its mass, divide by three, round down, and subtract 2.\n",
        "\n",
        "For example:\n",
        "\n",
        "- For a mass of 12, divide by 3 and round down to get 4, then subtract 2 to get 2.\n",
        "- For a mass of 14, dividing by 3 and rounding down still yields 4, so the fuel required is also 2.\n",
        "- For a mass of 1969, the fuel required is 654.\n",
        "- For a mass of 100756, the fuel required is 33583.\n",
        "- The Fuel Counter-Upper needs to know the total fuel requirement. To find it, individually calculate the fuel needed for the mass of each module (your puzzle input), then add together all the fuel values.\n",
        "\n",
        "What is the sum of the fuel requirements for all of the modules on your spacecraft?"
      ],
      "metadata": {}
    },
    {
      "cell_type": "code",
      "source": [
        "calculateFuelRequirement <- function(mass) {\n",
        "  return(sum(floor(mass / 3) - 2))\n",
        "}\n",
        "\n",
        "test_that(\"Known fuel requirements\", {\n",
        "  expect_equal(calculateFuelRequirement(12), 2)\n",
        "  expect_equal(calculateFuelRequirement(14), 2)\n",
        "  expect_equal(calculateFuelRequirement(1969), 654)\n",
        "  expect_equal(calculateFuelRequirement(100756), 33583)\n",
        "  expect_equal(calculateFuelRequirement(c(1969,100756)), 34237)\n",
        "})\n",
        "\n",
        "total <- calculateFuelRequirement(modulesMass)\n",
        "\n",
        "sprintf(\"Total fuel requirement: %s\", total)"
      ],
      "outputs": [
        {
          "output_type": "display_data",
          "data": {
            "text/html": [
              "'Total fuel requirement: 3318195'"
            ],
            "text/markdown": [
              "'Total fuel requirement: 3318195'"
            ],
            "text/latex": [
              "'Total fuel requirement: 3318195'"
            ],
            "text/plain": [
              "[1] \"Total fuel requirement: 3318195\""
            ]
          },
          "metadata": {}
        }
      ],
      "execution_count": 6,
      "metadata": {
        "collapsed": false,
        "outputHidden": false,
        "inputHidden": false
      }
    },
    {
      "cell_type": "markdown",
      "source": [
        "## Part 2\n",
        "\n",
        "During the second Go / No Go poll, the Elf in charge of the Rocket Equation Double-Checker stops the launch sequence. Apparently, you forgot to include additional fuel for the fuel you just added.\n",
        "\n",
        "Fuel itself requires fuel just like a module - take its mass, divide by three, round down, and subtract 2. However, that fuel also requires fuel, and that fuel requires fuel, and so on. Any mass that would require negative fuel should instead be treated as if it requires zero fuel; the remaining mass, if any, is instead handled by wishing really hard, which has no mass and is outside the scope of this calculation.\n",
        "\n",
        "So, for each module mass, calculate its fuel and add it to the total. Then, treat the fuel amount you just calculated as the input mass and repeat the process, continuing until a fuel requirement is zero or negative. For example:\n",
        "\n",
        "A module of mass 14 requires 2 fuel. This fuel requires no further fuel (2 divided by 3 and rounded down is 0, which would call for a negative fuel), so the total fuel required is still just 2.\n",
        "At first, a module of mass 1969 requires 654 fuel. Then, this fuel requires 216 more fuel (654 / 3 - 2). 216 then requires 70 more fuel, which requires 21 fuel, which requires 5 fuel, which requires no further fuel. So, the total fuel required for a module of mass 1969 is 654 + 216 + 70 + 21 + 5 = 966.\n",
        "\n",
        "The fuel required by a module of mass 100756 and its fuel is: 33583 + 11192 + 3728 + 1240 + 411 + 135 + 43 + 12 + 2 = 50346.\n",
        "\n",
        "What is the sum of the fuel requirements for all of the modules on your spacecraft when also taking into account the mass of the added fuel? (Calculate the fuel requirements for each module separately, then add them all up at the end.)"
      ],
      "metadata": {}
    },
    {
      "cell_type": "code",
      "source": [
        "calculateFuelRequirement2 <- function(mass) {\n",
        "  # Calculate fuel requirements for all modules\n",
        "  fuel <- floor(mass / 3) - 2\n",
        "  # Replace negative fuel with 0 -- This is required for the recursion to eventually stop\n",
        "  fuel[fuel < 0] <- 0\n",
        "  # Call function recursively to calculate all modules' fuel requirements\n",
        "  if (sum(fuel) > 0) {\n",
        "    return(sum(fuel, calculateFuelRequirement2(fuel)))\n",
        "  } else {\n",
        "    return(0)\n",
        "  }\n",
        "}\n",
        "\n",
        "test_that(\"Known fuel requirements\", {\n",
        "  expect_equal(calculateFuelRequirement2(14), 2)\n",
        "  expect_equal(calculateFuelRequirement2(1969), 966)\n",
        "  expect_equal(calculateFuelRequirement2(100756), 50346)\n",
        "  expect_equal(calculateFuelRequirement2(c(1969, 100756)), 51312)\n",
        "})\n",
        "\n",
        "total2 <- calculateFuelRequirement2(modulesMass)\n",
        "\n",
        "sprintf(\"Total fuel requirement: %s\", total2)"
      ],
      "outputs": [
        {
          "output_type": "display_data",
          "data": {
            "text/html": [
              "'Total fuel requirement: 4974428'"
            ],
            "text/markdown": [
              "'Total fuel requirement: 4974428'"
            ],
            "text/latex": [
              "'Total fuel requirement: 4974428'"
            ],
            "text/plain": [
              "[1] \"Total fuel requirement: 4974428\""
            ]
          },
          "metadata": {}
        }
      ],
      "execution_count": 7,
      "metadata": {
        "collapsed": false,
        "outputHidden": false,
        "inputHidden": false
      }
    }
  ],
  "metadata": {
    "kernel_info": {
      "name": "ir"
    },
    "language_info": {
      "name": "R",
      "codemirror_mode": "r",
      "pygments_lexer": "r",
      "mimetype": "text/x-r-source",
      "file_extension": ".r",
      "version": "3.6.1"
    },
    "kernelspec": {
      "name": "ir",
      "language": "R",
      "display_name": "R"
    },
    "nteract": {
      "version": "0.15.0"
    }
  },
  "nbformat": 4,
  "nbformat_minor": 0
}